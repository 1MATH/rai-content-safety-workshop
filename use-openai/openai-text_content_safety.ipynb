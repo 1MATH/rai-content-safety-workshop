{
 "cells": [
  {
   "cell_type": "markdown",
   "metadata": {},
   "source": [
    "# How to analyze text using Azure Content Safety API"
   ]
  },
  {
   "cell_type": "markdown",
   "metadata": {},
   "source": [
    "Import the necessary libraries for Content Safety"
   ]
  },
  {
   "cell_type": "code",
   "execution_count": 12,
   "metadata": {},
   "outputs": [],
   "source": [
    "import os\n",
    "import json\n",
    "import openai\n",
    "from dotenv import load_dotenv\n",
    "from azure.ai.contentsafety import ContentSafetyClient\n",
    "from azure.core.credentials import AzureKeyCredential\n",
    "from azure.core.exceptions import HttpResponseError\n",
    "from azure.ai.contentsafety.models import AnalyzeTextOptions"
   ]
  },
  {
   "cell_type": "markdown",
   "metadata": {},
   "source": [
    "Set Azure OpenAPI connection variables"
   ]
  },
  {
   "cell_type": "code",
   "execution_count": 13,
   "metadata": {},
   "outputs": [],
   "source": [
    "openai.api_type = \"azure\"\n",
    "openai.api_base = os.environ[\"AZURE_OPENAI_ENDPOINT\"]\n",
    "openai.api_key = os.environ[\"AZURE_OPENAI_KEY\"]\n",
    "openai.api_version = \"2023-10-01-preview\""
   ]
  },
  {
   "cell_type": "markdown",
   "metadata": {},
   "source": [
    "Enter the user's input text"
   ]
  },
  {
   "cell_type": "code",
   "execution_count": 14,
   "metadata": {},
   "outputs": [],
   "source": [
    "user_input = \"What is John's job in the movie John Wick?\""
   ]
  },
  {
   "cell_type": "markdown",
   "metadata": {},
   "source": [
    "Contruct the prompt defining what the chatbot does.  If there are any rules on what the chat should or should not do, add it in the system content."
   ]
  },
  {
   "cell_type": "code",
   "execution_count": 15,
   "metadata": {},
   "outputs": [
    {
     "name": "stdout",
     "output_type": "stream",
     "text": [
      "gpt35TurboDply\n",
      "https://az-contentsafety-wk.cognitiveservices.azure.com/\n"
     ]
    }
   ],
   "source": [
    "\n",
    "print(os.environ[\"GPT_35_TURBO_DEPLOYMENT\"])\n",
    "print(os.environ[\"AZURE_CONTENTSAFETY_ENDPOINT\"])"
   ]
  },
  {
   "cell_type": "code",
   "execution_count": 16,
   "metadata": {},
   "outputs": [],
   "source": [
    "response = openai.ChatCompletion.create(\n",
    "    engine=os.environ[\"GPT_35_TURBO_DEPLOYMENT\"], # model = \"deployment_name\".\n",
    "    messages=[\n",
    "        {\"role\": \"system\", \"content\": \"You are a helpful assistant.\"},\n",
    "        {\"role\": \"user\", \"content\": f'{user_input}'}\n",
    "    ]\n",
    ")"
   ]
  },
  {
   "cell_type": "markdown",
   "metadata": {},
   "source": [
    "Get OpenAPI response for Azure OpenAPI"
   ]
  },
  {
   "cell_type": "code",
   "execution_count": 17,
   "metadata": {},
   "outputs": [],
   "source": [
    "openai_answer = response['choices'][0]['message']['content']"
   ]
  },
  {
   "cell_type": "markdown",
   "metadata": {},
   "source": [
    "Set key and endpoint for your content safety API"
   ]
  },
  {
   "cell_type": "code",
   "execution_count": 18,
   "metadata": {},
   "outputs": [],
   "source": [
    "endpoint_url=os.environ[\"AZURE_CONTENTSAFETY_ENDPOINT\"]\n",
    "credential_key=AzureKeyCredential(os.environ[\"AZURE_CONTENTSAFETY_KEY\"])"
   ]
  },
  {
   "cell_type": "markdown",
   "metadata": {},
   "source": [
    "Create a client for Content Safety and authenticate with Azure Key Credential"
   ]
  },
  {
   "cell_type": "code",
   "execution_count": 19,
   "metadata": {},
   "outputs": [],
   "source": [
    "client = ContentSafetyClient(\n",
    "    endpoint=endpoint_url,\n",
    "    credential=credential_key\n",
    ")"
   ]
  },
  {
   "cell_type": "markdown",
   "metadata": {},
   "source": [
    "Submit openAI response to analyze for offensive content"
   ]
  },
  {
   "cell_type": "code",
   "execution_count": 20,
   "metadata": {},
   "outputs": [],
   "source": [
    "request = AnalyzeTextOptions(text=openai_answer)"
   ]
  },
  {
   "cell_type": "markdown",
   "metadata": {},
   "source": [
    "Call the content safety API to analyze a text"
   ]
  },
  {
   "cell_type": "code",
   "execution_count": 21,
   "metadata": {},
   "outputs": [],
   "source": [
    "# Analyze text\n",
    "try:\n",
    "    txt_response = client.analyze_text(request)\n",
    "except HttpResponseError as e:\n",
    "    print(\"Analyze text failed.\")\n",
    "    if e.error:\n",
    "        print(f\"Error code: {e.error.code}\")\n",
    "        print(f\"Error message: {e.error.message}\")\n",
    "        raise\n",
    "    print(e)\n",
    "    raise"
   ]
  },
  {
   "cell_type": "markdown",
   "metadata": {},
   "source": [
    "Print the content safety analysis results.  View which categories were flagged and they severity level."
   ]
  },
  {
   "cell_type": "code",
   "execution_count": 22,
   "metadata": {},
   "outputs": [
    {
     "name": "stdout",
     "output_type": "stream",
     "text": [
      "Hate severity: 0\n",
      "Self-Harm severity: 0\n",
      "Sexual severity: 0\n",
      "Violence severity: 2\n"
     ]
    }
   ],
   "source": [
    "if txt_response.hate_result:\n",
    "    print(f\"Hate severity: {txt_response.hate_result.severity}\")\n",
    "if txt_response.self_harm_result:\n",
    "    print(f\"Self-Harm severity: {txt_response.self_harm_result.severity}\")\n",
    "if txt_response.sexual_result:\n",
    "    print(f\"Sexual severity: {txt_response.sexual_result.severity}\")\n",
    "if txt_response.violence_result:\n",
    "    print(f\"Violence severity: {txt_response.violence_result.severity}\")"
   ]
  },
  {
   "cell_type": "markdown",
   "metadata": {},
   "source": [
    "Great Job!...You can add logic on what action to take based on the results.  For example, if the text is flagged as adult content at a severity threshold level, you can choose to not display the text."
   ]
  }
 ],
 "metadata": {
  "kernelspec": {
   "display_name": "Python 3 (ipykernel)",
   "language": "python",
   "name": "python3"
  },
  "language_info": {
   "codemirror_mode": {
    "name": "ipython",
    "version": 3
   },
   "file_extension": ".py",
   "mimetype": "text/x-python",
   "name": "python",
   "nbconvert_exporter": "python",
   "pygments_lexer": "ipython3",
   "version": "3.8.10"
  }
 },
 "nbformat": 4,
 "nbformat_minor": 2
}
